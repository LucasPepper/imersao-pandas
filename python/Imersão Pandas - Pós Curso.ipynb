{
 "cells": [
  {
   "cell_type": "markdown",
   "metadata": {},
   "source": [
    "# Imersão de Pandas - Teo Me Why\n",
    "\n",
    "### Breve revisão de Python - Turbo"
   ]
  },
  {
   "cell_type": "markdown",
   "metadata": {},
   "source": [
    "#### Strings"
   ]
  },
  {
   "cell_type": "code",
   "execution_count": 2,
   "metadata": {},
   "outputs": [
    {
     "name": "stdout",
     "output_type": "stream",
     "text": [
      "Téo Calvo\n"
     ]
    }
   ],
   "source": [
    "nome = \"Téo Calvo\"\n",
    "print(nome)"
   ]
  },
  {
   "cell_type": "code",
   "execution_count": 3,
   "metadata": {},
   "outputs": [
    {
     "data": {
      "text/plain": [
       "'TÉO CALVO'"
      ]
     },
     "execution_count": 3,
     "metadata": {},
     "output_type": "execute_result"
    }
   ],
   "source": [
    "nome.upper()"
   ]
  },
  {
   "cell_type": "code",
   "execution_count": 4,
   "metadata": {},
   "outputs": [
    {
     "data": {
      "text/plain": [
       "'téo calvo'"
      ]
     },
     "execution_count": 4,
     "metadata": {},
     "output_type": "execute_result"
    }
   ],
   "source": [
    "nome.lower()"
   ]
  },
  {
   "cell_type": "code",
   "execution_count": 5,
   "metadata": {},
   "outputs": [
    {
     "data": {
      "text/plain": [
       "'Téo'"
      ]
     },
     "execution_count": 5,
     "metadata": {},
     "output_type": "execute_result"
    }
   ],
   "source": [
    "nome[:3]"
   ]
  },
  {
   "cell_type": "code",
   "execution_count": 7,
   "metadata": {},
   "outputs": [
    {
     "data": {
      "text/plain": [
       "'ovlaC oéT'"
      ]
     },
     "execution_count": 7,
     "metadata": {},
     "output_type": "execute_result"
    }
   ],
   "source": [
    "nome[::-1] # -> start; stop; step"
   ]
  },
  {
   "cell_type": "code",
   "execution_count": 8,
   "metadata": {},
   "outputs": [
    {
     "data": {
      "text/plain": [
       "'ToClo'"
      ]
     },
     "execution_count": 8,
     "metadata": {},
     "output_type": "execute_result"
    }
   ],
   "source": [
    "nome[::2]"
   ]
  },
  {
   "cell_type": "markdown",
   "metadata": {},
   "source": [
    "#### Numéricos"
   ]
  },
  {
   "cell_type": "code",
   "execution_count": 9,
   "metadata": {},
   "outputs": [
    {
     "data": {
      "text/plain": [
       "int"
      ]
     },
     "execution_count": 9,
     "metadata": {},
     "output_type": "execute_result"
    }
   ],
   "source": [
    "type(1)"
   ]
  },
  {
   "cell_type": "code",
   "execution_count": 10,
   "metadata": {},
   "outputs": [
    {
     "data": {
      "text/plain": [
       "float"
      ]
     },
     "execution_count": 10,
     "metadata": {},
     "output_type": "execute_result"
    }
   ],
   "source": [
    "type(1.)"
   ]
  },
  {
   "cell_type": "code",
   "execution_count": 11,
   "metadata": {},
   "outputs": [
    {
     "data": {
      "text/plain": [
       "bool"
      ]
     },
     "execution_count": 11,
     "metadata": {},
     "output_type": "execute_result"
    }
   ],
   "source": [
    "type(True)"
   ]
  },
  {
   "cell_type": "code",
   "execution_count": 17,
   "metadata": {},
   "outputs": [
    {
     "name": "stdout",
     "output_type": "stream",
     "text": [
      "3.0\n",
      "8\n",
      "6\n",
      "1.5\n",
      "1\n",
      "1\n"
     ]
    }
   ],
   "source": [
    "print(1 + 1. + True) # soma\n",
    "print(2 ** 3)        # potência\n",
    "print(3 * 2)         # muiltiplicação\n",
    "print(3 / 2)         # divisão\n",
    "print( 3 % 2)        # resto da divisão\n",
    "print( 3 // 2)       # divisão inteira"
   ]
  },
  {
   "cell_type": "markdown",
   "metadata": {},
   "source": [
    "#### Listas\n",
    "* list comprehension"
   ]
  },
  {
   "cell_type": "code",
   "execution_count": 19,
   "metadata": {},
   "outputs": [],
   "source": [
    "minha_lista = [\"Téo\", 28, [\"Maria\", \"Jozefina\", \"Natalia\"], True ]"
   ]
  },
  {
   "cell_type": "code",
   "execution_count": 22,
   "metadata": {},
   "outputs": [
    {
     "data": {
      "text/plain": [
       "4"
      ]
     },
     "execution_count": 22,
     "metadata": {},
     "output_type": "execute_result"
    }
   ],
   "source": [
    "len(minha_lista) # Quantidade de elementos na lista"
   ]
  },
  {
   "cell_type": "code",
   "execution_count": 24,
   "metadata": {},
   "outputs": [
    {
     "data": {
      "text/plain": [
       "'Téo'"
      ]
     },
     "execution_count": 24,
     "metadata": {},
     "output_type": "execute_result"
    }
   ],
   "source": [
    "minha_lista[0] # Primeiro elemento"
   ]
  },
  {
   "cell_type": "code",
   "execution_count": 25,
   "metadata": {},
   "outputs": [
    {
     "data": {
      "text/plain": [
       "True"
      ]
     },
     "execution_count": 25,
     "metadata": {},
     "output_type": "execute_result"
    }
   ],
   "source": [
    "minha_lista[-1]"
   ]
  },
  {
   "cell_type": "code",
   "execution_count": 30,
   "metadata": {},
   "outputs": [
    {
     "data": {
      "text/plain": [
       "'Maria'"
      ]
     },
     "execution_count": 30,
     "metadata": {},
     "output_type": "execute_result"
    }
   ],
   "source": [
    "minha_lista[2][0]"
   ]
  },
  {
   "cell_type": "code",
   "execution_count": 32,
   "metadata": {},
   "outputs": [
    {
     "data": {
      "text/plain": [
       "['Natalia', 'Jozefina', 'Maria']"
      ]
     },
     "execution_count": 32,
     "metadata": {},
     "output_type": "execute_result"
    }
   ],
   "source": [
    "minha_lista[2][::-1]"
   ]
  },
  {
   "cell_type": "markdown",
   "metadata": {},
   "source": [
    "#### Dicionários"
   ]
  },
  {
   "cell_type": "code",
   "execution_count": 35,
   "metadata": {},
   "outputs": [],
   "source": [
    "dados = { \"nome\":[\"Téo\", \"Nah\", \"Lara\"],\n",
    "          \"sobrenome\":[\"Calvo\", \"Gironde\", \"Calvo\"],\n",
    "          \"idade\":[28,30,27]\n",
    "        }"
   ]
  },
  {
   "cell_type": "code",
   "execution_count": 39,
   "metadata": {},
   "outputs": [
    {
     "data": {
      "text/plain": [
       "'Téo'"
      ]
     },
     "execution_count": 39,
     "metadata": {},
     "output_type": "execute_result"
    }
   ],
   "source": [
    "dados[\"nome\"][0]"
   ]
  },
  {
   "cell_type": "code",
   "execution_count": 40,
   "metadata": {},
   "outputs": [],
   "source": [
    "dados[\"genero\"] = [\"M\", \"F\", \"F\"]"
   ]
  },
  {
   "cell_type": "code",
   "execution_count": 43,
   "metadata": {},
   "outputs": [
    {
     "data": {
      "text/plain": [
       "'téo'"
      ]
     },
     "execution_count": 43,
     "metadata": {},
     "output_type": "execute_result"
    }
   ],
   "source": [
    "dados[\"nome\"][0].lower()"
   ]
  },
  {
   "cell_type": "markdown",
   "metadata": {},
   "source": [
    "#### If, Else, Elif"
   ]
  },
  {
   "cell_type": "code",
   "execution_count": 46,
   "metadata": {},
   "outputs": [
    {
     "name": "stdout",
     "output_type": "stream",
     "text": [
      "Entre com a sua idade70\n",
      "Cuidado, pois sua idade é avançada\n"
     ]
    }
   ],
   "source": [
    "idade = input( \"Entre com a sua idade\" )\n",
    "idade = int(idade)\n",
    "\n",
    "if idade < 18:\n",
    "    print(\"Beba leite que é para sua idade\")\n",
    "    \n",
    "elif idade <= 65:\n",
    "    print(\"Beba a vontade, mas sem dirigir\")\n",
    "    \n",
    "else:\n",
    "    print(\"Cuidado, pois sua idade é avançada\")"
   ]
  },
  {
   "cell_type": "markdown",
   "metadata": {},
   "source": [
    "#### For & While"
   ]
  },
  {
   "cell_type": "code",
   "execution_count": 50,
   "metadata": {},
   "outputs": [
    {
     "name": "stdout",
     "output_type": "stream",
     "text": [
      "1 é impar\n",
      "2 é par\n",
      "3 é impar\n",
      "4 é par\n",
      "5 é impar\n",
      "6 é par\n",
      "7 é impar\n",
      "8 é par\n",
      "9 é impar\n",
      "10 é par\n"
     ]
    }
   ],
   "source": [
    "for i in range(1,11):\n",
    "    if i % 2 == 0:\n",
    "        print(i, \"é par\")\n",
    "    else:\n",
    "        print(i, \"é impar\")"
   ]
  },
  {
   "cell_type": "code",
   "execution_count": 54,
   "metadata": {},
   "outputs": [
    {
     "name": "stdout",
     "output_type": "stream",
     "text": [
      "1\n",
      "2\n",
      "3\n",
      "4\n",
      "5\n",
      "6\n",
      "7\n",
      "8\n",
      "9\n",
      "10\n"
     ]
    }
   ],
   "source": [
    "i = 1\n",
    "while True:\n",
    "    print(i)\n",
    "    if i == 10:\n",
    "        break\n",
    "    i += 1"
   ]
  },
  {
   "cell_type": "code",
   "execution_count": 56,
   "metadata": {},
   "outputs": [
    {
     "name": "stdout",
     "output_type": "stream",
     "text": [
      "1\n",
      "2\n",
      "3\n",
      "4\n",
      "5\n",
      "6\n",
      "7\n",
      "8\n",
      "9\n",
      "10\n"
     ]
    }
   ],
   "source": [
    "i = 1\n",
    "while i <= 10:\n",
    "    print(i)\n",
    "    i += 1"
   ]
  },
  {
   "cell_type": "markdown",
   "metadata": {},
   "source": [
    "#### Funções"
   ]
  },
  {
   "cell_type": "code",
   "execution_count": 57,
   "metadata": {},
   "outputs": [],
   "source": [
    "def calc_cubo(x):\n",
    "    return x ** 3"
   ]
  },
  {
   "cell_type": "code",
   "execution_count": 58,
   "metadata": {},
   "outputs": [
    {
     "data": {
      "text/plain": [
       "64"
      ]
     },
     "execution_count": 58,
     "metadata": {},
     "output_type": "execute_result"
    }
   ],
   "source": [
    "calc_cubo(4)"
   ]
  },
  {
   "cell_type": "code",
   "execution_count": 59,
   "metadata": {},
   "outputs": [],
   "source": [
    "def funcao_bivariada(x, y):\n",
    "    return 2 * x + 4 * (y ** 3)"
   ]
  },
  {
   "cell_type": "code",
   "execution_count": 60,
   "metadata": {},
   "outputs": [
    {
     "data": {
      "text/plain": [
       "276"
      ]
     },
     "execution_count": 60,
     "metadata": {},
     "output_type": "execute_result"
    }
   ],
   "source": [
    "funcao_bivariada(10, 4)"
   ]
  },
  {
   "cell_type": "markdown",
   "metadata": {},
   "source": [
    "## Finalmente, Pandas!!\n",
    "\n",
    "Fingindo um pouco a análise de dados\n",
    "\n",
    "### Comandos básicos\n",
    "\n",
    "* Importação da biblioteca\n",
    "* O que são Series e Dataframes?\n",
    "    - Criando o primeiro dataframe\n",
    "* Leitura de arquivos\n",
    "* Escrita de arquivos\n",
    "* Operações básicas de DataFrame"
   ]
  },
  {
   "cell_type": "code",
   "execution_count": 61,
   "metadata": {},
   "outputs": [],
   "source": [
    "import pandas as pd # Importa a biblica Pandas com o alias (apelido) pd"
   ]
  },
  {
   "cell_type": "markdown",
   "metadata": {},
   "source": [
    "### Séries"
   ]
  },
  {
   "cell_type": "code",
   "execution_count": 65,
   "metadata": {},
   "outputs": [
    {
     "data": {
      "text/plain": [
       "0     Téo\n",
       "1     Nah\n",
       "2    Lara\n",
       "3      Ju\n",
       "dtype: object"
      ]
     },
     "execution_count": 65,
     "metadata": {},
     "output_type": "execute_result"
    }
   ],
   "source": [
    "minha_serie = pd.Series( [\"Téo\", \"Nah\", \"Lara\", \"Ju\"] )\n",
    "minha_serie"
   ]
  },
  {
   "cell_type": "code",
   "execution_count": 68,
   "metadata": {},
   "outputs": [
    {
     "data": {
      "text/plain": [
       "1     Nah\n",
       "2    Lara\n",
       "3      Ju\n",
       "dtype: object"
      ]
     },
     "execution_count": 68,
     "metadata": {},
     "output_type": "execute_result"
    }
   ],
   "source": [
    "minha_serie[1:]"
   ]
  },
  {
   "cell_type": "code",
   "execution_count": 77,
   "metadata": {},
   "outputs": [],
   "source": [
    "minha_serie.name"
   ]
  },
  {
   "cell_type": "code",
   "execution_count": 90,
   "metadata": {},
   "outputs": [],
   "source": [
    "dados = [\"Téo\", \"Nah\", \"Lara\", \"Ju\"]\n",
    "nova_serie = pd.Series(dados, name=\"nome\")"
   ]
  },
  {
   "cell_type": "code",
   "execution_count": 92,
   "metadata": {},
   "outputs": [
    {
     "data": {
      "text/plain": [
       "0     True\n",
       "1    False\n",
       "2    False\n",
       "3    False\n",
       "Name: nome, dtype: bool"
      ]
     },
     "execution_count": 92,
     "metadata": {},
     "output_type": "execute_result"
    }
   ],
   "source": [
    "nova_serie == \"Téo\""
   ]
  },
  {
   "cell_type": "code",
   "execution_count": 93,
   "metadata": {},
   "outputs": [
    {
     "data": {
      "text/plain": [
       "0    23\n",
       "1    54\n",
       "2    65\n",
       "3    23\n",
       "4    12\n",
       "5    54\n",
       "6     7\n",
       "7    88\n",
       "dtype: int64"
      ]
     },
     "execution_count": 93,
     "metadata": {},
     "output_type": "execute_result"
    }
   ],
   "source": [
    "idade = pd.Series( [23,54,65,23,12,54,7,88] )\n",
    "idade"
   ]
  },
  {
   "cell_type": "code",
   "execution_count": 94,
   "metadata": {},
   "outputs": [
    {
     "data": {
      "text/plain": [
       "0     True\n",
       "1     True\n",
       "2     True\n",
       "3     True\n",
       "4    False\n",
       "5     True\n",
       "6    False\n",
       "7     True\n",
       "dtype: bool"
      ]
     },
     "execution_count": 94,
     "metadata": {},
     "output_type": "execute_result"
    }
   ],
   "source": [
    "idade * 10"
   ]
  },
  {
   "cell_type": "markdown",
   "metadata": {},
   "source": [
    "### Data Frames"
   ]
  },
  {
   "cell_type": "code",
   "execution_count": 114,
   "metadata": {},
   "outputs": [],
   "source": [
    "dados = { \"nome\":[\"Téo\", \"Nah\", \"Lara\", \"Ju\"],\n",
    "          \"sobrenome\":[\"Calvo\", \"Gironde\", \"Calvo\", \"Duc\"],\n",
    "          \"idade\":[28,30,27,26],\n",
    "        }\n",
    "\n",
    "df_dados = pd.DataFrame(dados)"
   ]
  },
  {
   "cell_type": "code",
   "execution_count": 103,
   "metadata": {},
   "outputs": [
    {
     "data": {
      "text/plain": [
       "['Téo', 'Nah', 'Lara', 'Ju']"
      ]
     },
     "execution_count": 103,
     "metadata": {},
     "output_type": "execute_result"
    }
   ],
   "source": [
    "dados[\"nome\"]"
   ]
  },
  {
   "cell_type": "code",
   "execution_count": 100,
   "metadata": {},
   "outputs": [],
   "source": []
  },
  {
   "cell_type": "code",
   "execution_count": 110,
   "metadata": {},
   "outputs": [
    {
     "data": {
      "text/plain": [
       "0     Téo\n",
       "1     Nah\n",
       "2    Lara\n",
       "3      Ju\n",
       "Name: nome, dtype: object"
      ]
     },
     "execution_count": 110,
     "metadata": {},
     "output_type": "execute_result"
    }
   ],
   "source": [
    "df_dados[\"nome\"]"
   ]
  },
  {
   "cell_type": "code",
   "execution_count": 111,
   "metadata": {},
   "outputs": [
    {
     "data": {
      "text/plain": [
       "['Téo', 'Nah', 'Lara', 'Ju']"
      ]
     },
     "execution_count": 111,
     "metadata": {},
     "output_type": "execute_result"
    }
   ],
   "source": [
    "df_dados[\"nome\"].tolist()"
   ]
  },
  {
   "cell_type": "markdown",
   "metadata": {},
   "source": [
    "## Importando dados"
   ]
  },
  {
   "cell_type": "code",
   "execution_count": 115,
   "metadata": {},
   "outputs": [
    {
     "name": "stderr",
     "output_type": "stream",
     "text": [
      "/home/teo/anaconda3/envs/twitch/lib/python3.7/site-packages/IPython/core/interactiveshell.py:3146: DtypeWarning: Columns (8) have mixed types.Specify dtype option on import or set low_memory=False.\n",
      "  interactivity=interactivity, compiler=compiler, result=result)\n"
     ]
    }
   ],
   "source": [
    "df_votacao = pd.read_csv(\"../data/votacao_agg_estado.csv\")"
   ]
  },
  {
   "cell_type": "code",
   "execution_count": 120,
   "metadata": {
    "scrolled": true
   },
   "outputs": [
    {
     "data": {
      "text/html": [
       "<div>\n",
       "<style scoped>\n",
       "    .dataframe tbody tr th:only-of-type {\n",
       "        vertical-align: middle;\n",
       "    }\n",
       "\n",
       "    .dataframe tbody tr th {\n",
       "        vertical-align: top;\n",
       "    }\n",
       "\n",
       "    .dataframe thead th {\n",
       "        text-align: right;\n",
       "    }\n",
       "</style>\n",
       "<table border=\"1\" class=\"dataframe\">\n",
       "  <thead>\n",
       "    <tr style=\"text-align: right;\">\n",
       "      <th></th>\n",
       "      <th>ano_eleicao</th>\n",
       "      <th>descricao_eleicao</th>\n",
       "      <th>numero_turno</th>\n",
       "      <th>nome_partido</th>\n",
       "      <th>numero_partido</th>\n",
       "      <th>sigla_partido</th>\n",
       "      <th>descricao_cargo</th>\n",
       "      <th>descricao_situacao_candidatura</th>\n",
       "      <th>descricao_situacao_candidatura_superior</th>\n",
       "      <th>nome</th>\n",
       "      <th>...</th>\n",
       "      <th>total_votos_to</th>\n",
       "      <th>total_votos_pa</th>\n",
       "      <th>total_votos_ms</th>\n",
       "      <th>total_votos_pi</th>\n",
       "      <th>total_votos_ma</th>\n",
       "      <th>total_votos_df</th>\n",
       "      <th>total_votos_es</th>\n",
       "      <th>total_votos_rr</th>\n",
       "      <th>total_votos_sc</th>\n",
       "      <th>total_votos</th>\n",
       "    </tr>\n",
       "  </thead>\n",
       "  <tbody>\n",
       "    <tr>\n",
       "      <th>0</th>\n",
       "      <td>2014</td>\n",
       "      <td>ELEICAO SUPLEMENTAR GOVERNADOR AM</td>\n",
       "      <td>1</td>\n",
       "      <td>PARTIDO DEMOCRATICO TRABALHISTA</td>\n",
       "      <td>12</td>\n",
       "      <td>PDT</td>\n",
       "      <td>GOVERNADOR</td>\n",
       "      <td>DEFERIDO</td>\n",
       "      <td>APTO</td>\n",
       "      <td>AMAZONINO ARMANDO MENDES</td>\n",
       "      <td>...</td>\n",
       "      <td>0</td>\n",
       "      <td>0</td>\n",
       "      <td>0</td>\n",
       "      <td>0</td>\n",
       "      <td>0</td>\n",
       "      <td>0</td>\n",
       "      <td>0</td>\n",
       "      <td>0</td>\n",
       "      <td>0</td>\n",
       "      <td>577397</td>\n",
       "    </tr>\n",
       "    <tr>\n",
       "      <th>1</th>\n",
       "      <td>2014</td>\n",
       "      <td>ELEICAO SUPLEMENTAR GOVERNADOR AM</td>\n",
       "      <td>1</td>\n",
       "      <td>PARTIDO DO MOVIMENTO DEMOCRATICO BRASILEIRO</td>\n",
       "      <td>15</td>\n",
       "      <td>PMDB</td>\n",
       "      <td>GOVERNADOR</td>\n",
       "      <td>DEFERIDO</td>\n",
       "      <td>APTO</td>\n",
       "      <td>CARLOS EDUARDO DE SOUZA BRAGA</td>\n",
       "      <td>...</td>\n",
       "      <td>0</td>\n",
       "      <td>0</td>\n",
       "      <td>0</td>\n",
       "      <td>0</td>\n",
       "      <td>0</td>\n",
       "      <td>0</td>\n",
       "      <td>0</td>\n",
       "      <td>0</td>\n",
       "      <td>0</td>\n",
       "      <td>377680</td>\n",
       "    </tr>\n",
       "  </tbody>\n",
       "</table>\n",
       "<p>2 rows × 43 columns</p>\n",
       "</div>"
      ],
      "text/plain": [
       "   ano_eleicao                  descricao_eleicao  numero_turno  \\\n",
       "0         2014  ELEICAO SUPLEMENTAR GOVERNADOR AM             1   \n",
       "1         2014  ELEICAO SUPLEMENTAR GOVERNADOR AM             1   \n",
       "\n",
       "                                  nome_partido  numero_partido sigla_partido  \\\n",
       "0              PARTIDO DEMOCRATICO TRABALHISTA              12           PDT   \n",
       "1  PARTIDO DO MOVIMENTO DEMOCRATICO BRASILEIRO              15          PMDB   \n",
       "\n",
       "  descricao_cargo descricao_situacao_candidatura  \\\n",
       "0      GOVERNADOR                       DEFERIDO   \n",
       "1      GOVERNADOR                       DEFERIDO   \n",
       "\n",
       "  descricao_situacao_candidatura_superior                           nome  ...  \\\n",
       "0                                    APTO       AMAZONINO ARMANDO MENDES  ...   \n",
       "1                                    APTO  CARLOS EDUARDO DE SOUZA BRAGA  ...   \n",
       "\n",
       "   total_votos_to total_votos_pa  total_votos_ms  total_votos_pi  \\\n",
       "0               0              0               0               0   \n",
       "1               0              0               0               0   \n",
       "\n",
       "   total_votos_ma  total_votos_df  total_votos_es  total_votos_rr  \\\n",
       "0               0               0               0               0   \n",
       "1               0               0               0               0   \n",
       "\n",
       "   total_votos_sc  total_votos  \n",
       "0               0       577397  \n",
       "1               0       377680  \n",
       "\n",
       "[2 rows x 43 columns]"
      ]
     },
     "execution_count": 120,
     "metadata": {},
     "output_type": "execute_result"
    }
   ],
   "source": [
    "df_votacao.head(2) # Retorna as duas primeiras linhas do dataframe"
   ]
  },
  {
   "cell_type": "code",
   "execution_count": 123,
   "metadata": {},
   "outputs": [
    {
     "data": {
      "text/html": [
       "<div>\n",
       "<style scoped>\n",
       "    .dataframe tbody tr th:only-of-type {\n",
       "        vertical-align: middle;\n",
       "    }\n",
       "\n",
       "    .dataframe tbody tr th {\n",
       "        vertical-align: top;\n",
       "    }\n",
       "\n",
       "    .dataframe thead th {\n",
       "        text-align: right;\n",
       "    }\n",
       "</style>\n",
       "<table border=\"1\" class=\"dataframe\">\n",
       "  <thead>\n",
       "    <tr style=\"text-align: right;\">\n",
       "      <th></th>\n",
       "      <th>ano_eleicao</th>\n",
       "      <th>descricao_eleicao</th>\n",
       "      <th>numero_turno</th>\n",
       "      <th>nome_partido</th>\n",
       "      <th>numero_partido</th>\n",
       "      <th>sigla_partido</th>\n",
       "      <th>descricao_cargo</th>\n",
       "      <th>descricao_situacao_candidatura</th>\n",
       "      <th>descricao_situacao_candidatura_superior</th>\n",
       "      <th>nome</th>\n",
       "      <th>...</th>\n",
       "      <th>total_votos_to</th>\n",
       "      <th>total_votos_pa</th>\n",
       "      <th>total_votos_ms</th>\n",
       "      <th>total_votos_pi</th>\n",
       "      <th>total_votos_ma</th>\n",
       "      <th>total_votos_df</th>\n",
       "      <th>total_votos_es</th>\n",
       "      <th>total_votos_rr</th>\n",
       "      <th>total_votos_sc</th>\n",
       "      <th>total_votos</th>\n",
       "    </tr>\n",
       "  </thead>\n",
       "  <tbody>\n",
       "    <tr>\n",
       "      <th>511103</th>\n",
       "      <td>2018</td>\n",
       "      <td>ELEICOES GERAIS ESTADUAIS 2018</td>\n",
       "      <td>2</td>\n",
       "      <td>PARTIDO SOCIALISTA BRASILEIRO</td>\n",
       "      <td>40</td>\n",
       "      <td>PSB</td>\n",
       "      <td>GOVERNADOR</td>\n",
       "      <td>APTO</td>\n",
       "      <td>NaN</td>\n",
       "      <td>MARCIO LUIZ FRANCA GOMES</td>\n",
       "      <td>...</td>\n",
       "      <td>0</td>\n",
       "      <td>0</td>\n",
       "      <td>0</td>\n",
       "      <td>0</td>\n",
       "      <td>0</td>\n",
       "      <td>0</td>\n",
       "      <td>0</td>\n",
       "      <td>0</td>\n",
       "      <td>0</td>\n",
       "      <td>20497480</td>\n",
       "    </tr>\n",
       "    <tr>\n",
       "      <th>511104</th>\n",
       "      <td>2018</td>\n",
       "      <td>ELEICOES GERAIS ESTADUAIS 2018</td>\n",
       "      <td>2</td>\n",
       "      <td>PARTIDO SOCIALISTA BRASILEIRO</td>\n",
       "      <td>40</td>\n",
       "      <td>PSB</td>\n",
       "      <td>GOVERNADOR</td>\n",
       "      <td>APTO</td>\n",
       "      <td>NaN</td>\n",
       "      <td>RODRIGO SOBRAL ROLLEMBERG</td>\n",
       "      <td>...</td>\n",
       "      <td>0</td>\n",
       "      <td>0</td>\n",
       "      <td>0</td>\n",
       "      <td>0</td>\n",
       "      <td>0</td>\n",
       "      <td>451329</td>\n",
       "      <td>0</td>\n",
       "      <td>0</td>\n",
       "      <td>0</td>\n",
       "      <td>451329</td>\n",
       "    </tr>\n",
       "  </tbody>\n",
       "</table>\n",
       "<p>2 rows × 43 columns</p>\n",
       "</div>"
      ],
      "text/plain": [
       "        ano_eleicao               descricao_eleicao  numero_turno  \\\n",
       "511103         2018  ELEICOES GERAIS ESTADUAIS 2018             2   \n",
       "511104         2018  ELEICOES GERAIS ESTADUAIS 2018             2   \n",
       "\n",
       "                         nome_partido  numero_partido sigla_partido  \\\n",
       "511103  PARTIDO SOCIALISTA BRASILEIRO              40           PSB   \n",
       "511104  PARTIDO SOCIALISTA BRASILEIRO              40           PSB   \n",
       "\n",
       "       descricao_cargo descricao_situacao_candidatura  \\\n",
       "511103      GOVERNADOR                           APTO   \n",
       "511104      GOVERNADOR                           APTO   \n",
       "\n",
       "       descricao_situacao_candidatura_superior                       nome  \\\n",
       "511103                                     NaN   MARCIO LUIZ FRANCA GOMES   \n",
       "511104                                     NaN  RODRIGO SOBRAL ROLLEMBERG   \n",
       "\n",
       "        ...  total_votos_to total_votos_pa  total_votos_ms  total_votos_pi  \\\n",
       "511103  ...               0              0               0               0   \n",
       "511104  ...               0              0               0               0   \n",
       "\n",
       "        total_votos_ma  total_votos_df  total_votos_es  total_votos_rr  \\\n",
       "511103               0               0               0               0   \n",
       "511104               0          451329               0               0   \n",
       "\n",
       "        total_votos_sc  total_votos  \n",
       "511103               0     20497480  \n",
       "511104               0       451329  \n",
       "\n",
       "[2 rows x 43 columns]"
      ]
     },
     "execution_count": 123,
     "metadata": {},
     "output_type": "execute_result"
    }
   ],
   "source": [
    "df_votacao.tail(2) # Mostra as últimas 2 linhas"
   ]
  },
  {
   "cell_type": "code",
   "execution_count": 124,
   "metadata": {},
   "outputs": [
    {
     "data": {
      "text/plain": [
       "(511105, 43)"
      ]
     },
     "execution_count": 124,
     "metadata": {},
     "output_type": "execute_result"
    }
   ],
   "source": [
    "# Dimensoes do dataframe\n",
    "df_votacao.shape"
   ]
  },
  {
   "cell_type": "code",
   "execution_count": 131,
   "metadata": {},
   "outputs": [
    {
     "data": {
      "text/plain": [
       "['ano_eleicao',\n",
       " 'descricao_eleicao',\n",
       " 'numero_turno',\n",
       " 'nome_partido',\n",
       " 'numero_partido',\n",
       " 'sigla_partido',\n",
       " 'descricao_cargo',\n",
       " 'descricao_situacao_candidatura',\n",
       " 'descricao_situacao_candidatura_superior',\n",
       " 'nome',\n",
       " 'nome_social',\n",
       " 'nome_urna',\n",
       " 'numero_sequencial',\n",
       " 'numero_urna',\n",
       " 'total_votos_ac',\n",
       " 'total_votos_al',\n",
       " 'total_votos_am',\n",
       " 'total_votos_ap',\n",
       " 'total_votos_ba',\n",
       " 'total_votos_rj',\n",
       " 'total_votos_sp',\n",
       " 'total_votos_ce',\n",
       " 'total_votos_ro',\n",
       " 'total_votos_se',\n",
       " 'total_votos_pr',\n",
       " 'total_votos_mg',\n",
       " 'total_votos_mt',\n",
       " 'total_votos_pe',\n",
       " 'total_votos_pb',\n",
       " 'total_votos_zz',\n",
       " 'total_votos_go',\n",
       " 'total_votos_rs',\n",
       " 'total_votos_rn',\n",
       " 'total_votos_to',\n",
       " 'total_votos_pa',\n",
       " 'total_votos_ms',\n",
       " 'total_votos_pi',\n",
       " 'total_votos_ma',\n",
       " 'total_votos_df',\n",
       " 'total_votos_es',\n",
       " 'total_votos_rr',\n",
       " 'total_votos_sc',\n",
       " 'total_votos']"
      ]
     },
     "execution_count": 131,
     "metadata": {},
     "output_type": "execute_result"
    }
   ],
   "source": [
    "# Quais são suas colunas?\n",
    "df_votacao.columns.tolist()"
   ]
  },
  {
   "cell_type": "code",
   "execution_count": 129,
   "metadata": {},
   "outputs": [
    {
     "data": {
      "text/plain": [
       "RangeIndex(start=0, stop=511105, step=1)"
      ]
     },
     "execution_count": 129,
     "metadata": {},
     "output_type": "execute_result"
    }
   ],
   "source": [
    "# Indices\n",
    "df_votacao.index"
   ]
  },
  {
   "cell_type": "markdown",
   "metadata": {},
   "source": [
    "## Utilitários"
   ]
  },
  {
   "cell_type": "code",
   "execution_count": 134,
   "metadata": {},
   "outputs": [
    {
     "name": "stdout",
     "output_type": "stream",
     "text": [
      "<class 'pandas.core.frame.DataFrame'>\n",
      "RangeIndex: 511105 entries, 0 to 511104\n",
      "Data columns (total 43 columns):\n",
      " #   Column                                   Non-Null Count   Dtype  \n",
      "---  ------                                   --------------   -----  \n",
      " 0   ano_eleicao                              511105 non-null  int64  \n",
      " 1   descricao_eleicao                        511105 non-null  object \n",
      " 2   numero_turno                             511105 non-null  int64  \n",
      " 3   nome_partido                             511105 non-null  object \n",
      " 4   numero_partido                           511105 non-null  int64  \n",
      " 5   sigla_partido                            511105 non-null  object \n",
      " 6   descricao_cargo                          511105 non-null  object \n",
      " 7   descricao_situacao_candidatura           511105 non-null  object \n",
      " 8   descricao_situacao_candidatura_superior  484655 non-null  object \n",
      " 9   nome                                     511105 non-null  object \n",
      " 10  nome_social                              0 non-null       float64\n",
      " 11  nome_urna                                511095 non-null  object \n",
      " 12  numero_sequencial                        511105 non-null  int64  \n",
      " 13  numero_urna                              511105 non-null  int64  \n",
      " 14  total_votos_ac                           511105 non-null  int64  \n",
      " 15  total_votos_al                           511105 non-null  int64  \n",
      " 16  total_votos_am                           511105 non-null  int64  \n",
      " 17  total_votos_ap                           511105 non-null  int64  \n",
      " 18  total_votos_ba                           511105 non-null  int64  \n",
      " 19  total_votos_rj                           511105 non-null  int64  \n",
      " 20  total_votos_sp                           511105 non-null  int64  \n",
      " 21  total_votos_ce                           511105 non-null  int64  \n",
      " 22  total_votos_ro                           511105 non-null  int64  \n",
      " 23  total_votos_se                           511105 non-null  int64  \n",
      " 24  total_votos_pr                           511105 non-null  int64  \n",
      " 25  total_votos_mg                           511105 non-null  int64  \n",
      " 26  total_votos_mt                           511105 non-null  int64  \n",
      " 27  total_votos_pe                           511105 non-null  int64  \n",
      " 28  total_votos_pb                           511105 non-null  int64  \n",
      " 29  total_votos_zz                           511105 non-null  int64  \n",
      " 30  total_votos_go                           511105 non-null  int64  \n",
      " 31  total_votos_rs                           511105 non-null  int64  \n",
      " 32  total_votos_rn                           511105 non-null  int64  \n",
      " 33  total_votos_to                           511105 non-null  int64  \n",
      " 34  total_votos_pa                           511105 non-null  int64  \n",
      " 35  total_votos_ms                           511105 non-null  int64  \n",
      " 36  total_votos_pi                           511105 non-null  int64  \n",
      " 37  total_votos_ma                           511105 non-null  int64  \n",
      " 38  total_votos_df                           511105 non-null  int64  \n",
      " 39  total_votos_es                           511105 non-null  int64  \n",
      " 40  total_votos_rr                           511105 non-null  int64  \n",
      " 41  total_votos_sc                           511105 non-null  int64  \n",
      " 42  total_votos                              511105 non-null  int64  \n",
      "dtypes: float64(1), int64(34), object(8)\n",
      "memory usage: 167.7+ MB\n"
     ]
    }
   ],
   "source": [
    "df_votacao.info()"
   ]
  },
  {
   "cell_type": "code",
   "execution_count": 148,
   "metadata": {},
   "outputs": [
    {
     "data": {
      "text/plain": [
       "ano_eleicao                                  int64\n",
       "descricao_eleicao                           object\n",
       "numero_turno                                 int64\n",
       "nome_partido                                object\n",
       "numero_partido                               int64\n",
       "sigla_partido                               object\n",
       "descricao_cargo                             object\n",
       "descricao_situacao_candidatura              object\n",
       "descricao_situacao_candidatura_superior     object\n",
       "nome                                        object\n",
       "nome_social                                float64\n",
       "nome_urna                                   object\n",
       "numero_sequencial                            int64\n",
       "numero_urna                                  int64\n",
       "total_votos_ac                               int64\n",
       "total_votos_al                               int64\n",
       "total_votos_am                               int64\n",
       "total_votos_ap                               int64\n",
       "total_votos_ba                               int64\n",
       "total_votos_rj                               int64\n",
       "total_votos_sp                               int64\n",
       "total_votos_ce                               int64\n",
       "total_votos_ro                               int64\n",
       "total_votos_se                               int64\n",
       "total_votos_pr                               int64\n",
       "total_votos_mg                               int64\n",
       "total_votos_mt                               int64\n",
       "total_votos_pe                               int64\n",
       "total_votos_pb                               int64\n",
       "total_votos_zz                               int64\n",
       "total_votos_go                               int64\n",
       "total_votos_rs                               int64\n",
       "total_votos_rn                               int64\n",
       "total_votos_to                               int64\n",
       "total_votos_pa                               int64\n",
       "total_votos_ms                               int64\n",
       "total_votos_pi                               int64\n",
       "total_votos_ma                               int64\n",
       "total_votos_df                               int64\n",
       "total_votos_es                               int64\n",
       "total_votos_rr                               int64\n",
       "total_votos_sc                               int64\n",
       "total_votos                                  int64\n",
       "dtype: object"
      ]
     },
     "execution_count": 148,
     "metadata": {},
     "output_type": "execute_result"
    }
   ],
   "source": [
    "df_votacao.dtypes"
   ]
  },
  {
   "cell_type": "markdown",
   "metadata": {},
   "source": [
    "## Navegação pelo DataFrame"
   ]
  },
  {
   "cell_type": "code",
   "execution_count": null,
   "metadata": {},
   "outputs": [],
   "source": [
    "df[coluna][linha]"
   ]
  },
  {
   "cell_type": "markdown",
   "metadata": {},
   "source": [
    "## Filtros\n",
    "\n",
    "* Comparações lógicas de ==, >, >=, <, <=, !=\n",
    "* isna()\n",
    "* isin()"
   ]
  },
  {
   "cell_type": "code",
   "execution_count": null,
   "metadata": {},
   "outputs": [],
   "source": [
    "df_new = df[ filtro ]"
   ]
  },
  {
   "cell_type": "code",
   "execution_count": null,
   "metadata": {},
   "outputs": [],
   "source": [
    "df.where(filtro).dropna(how=\"all\")"
   ]
  },
  {
   "cell_type": "markdown",
   "metadata": {},
   "source": [
    "## Renomeando Colunas"
   ]
  },
  {
   "cell_type": "code",
   "execution_count": null,
   "metadata": {},
   "outputs": [],
   "source": [
    "df.rename_axis()"
   ]
  },
  {
   "cell_type": "markdown",
   "metadata": {},
   "source": [
    "## Transformações, conversões e remoções\n",
    "\n",
    "* Operações com escalares\n",
    "* Operações entre colunas\n",
    "* apply()\n",
    "* funções anônimas"
   ]
  },
  {
   "cell_type": "code",
   "execution_count": null,
   "metadata": {},
   "outputs": [],
   "source": [
    "df[coluna] * 2"
   ]
  },
  {
   "cell_type": "code",
   "execution_count": null,
   "metadata": {},
   "outputs": [],
   "source": [
    "df[coluna1] + df[coluna2]"
   ]
  },
  {
   "cell_type": "code",
   "execution_count": null,
   "metadata": {},
   "outputs": [],
   "source": [
    "df[coluna].apply()"
   ]
  },
  {
   "cell_type": "markdown",
   "metadata": {},
   "source": [
    "## Group by & Sort by\n",
    "\n",
    "* Operações Estatísticas: sum, mean, count, std...\n",
    "* Agrupando por chave"
   ]
  },
  {
   "cell_type": "code",
   "execution_count": null,
   "metadata": {},
   "outputs": [],
   "source": [
    "df.groupby()"
   ]
  },
  {
   "cell_type": "markdown",
   "metadata": {},
   "source": [
    "## Stack e Unstack\n",
    "\n",
    "* Empilhando e desempilhando dados"
   ]
  },
  {
   "cell_type": "code",
   "execution_count": null,
   "metadata": {},
   "outputs": [],
   "source": [
    "df.stack()\n",
    "df.unstack()\n",
    "df.explode()"
   ]
  },
  {
   "cell_type": "markdown",
   "metadata": {},
   "source": [
    "## Joins\n",
    "\n",
    "* merge com left, right, inner, etc.\n",
    "* 'on' como chave\n",
    "\n",
    "* Falar de concat"
   ]
  },
  {
   "cell_type": "code",
   "execution_count": null,
   "metadata": {},
   "outputs": [],
   "source": [
    "df1.merge(df2)"
   ]
  },
  {
   "cell_type": "markdown",
   "metadata": {},
   "source": [
    "## Integração com banco de dados SQL\n",
    "\n",
    "* Enviando query para o banco\n",
    "* Consumindo tabela do banco\n",
    "* Enviando dados para o banco"
   ]
  },
  {
   "cell_type": "code",
   "execution_count": null,
   "metadata": {},
   "outputs": [],
   "source": [
    "https://www.twitch.tv/teomewhypd.read_sql()"
   ]
  }
 ],
 "metadata": {
  "kernelspec": {
   "display_name": "Python [conda env:twitch]",
   "language": "python",
   "name": "conda-env-twitch-py"
  },
  "language_info": {
   "codemirror_mode": {
    "name": "ipython",
    "version": 3
   },
   "file_extension": ".py",
   "mimetype": "text/x-python",
   "name": "python",
   "nbconvert_exporter": "python",
   "pygments_lexer": "ipython3",
   "version": "3.7.7"
  }
 },
 "nbformat": 4,
 "nbformat_minor": 2
}
